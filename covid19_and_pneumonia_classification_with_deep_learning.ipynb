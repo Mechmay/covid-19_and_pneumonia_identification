{
  "nbformat": 4,
  "nbformat_minor": 0,
  "metadata": {
    "colab": {
      "name": "covid19_and_pneumonia_classification_with_deep_learning.ipynb",
      "provenance": [],
      "authorship_tag": "ABX9TyOHl2WgsBNhq7XWtBDOKNqD"
    },
    "kernelspec": {
      "name": "python3",
      "display_name": "Python 3"
    },
    "accelerator": "GPU"
  },
  "cells": [
    {
      "cell_type": "code",
      "metadata": {
        "colab": {
          "base_uri": "https://localhost:8080/"
        },
        "id": "gNuyt6mGnOBT",
        "outputId": "0332e6d4-5f33-4249-c243-6dbecdca56a9"
      },
      "source": [
        "from google.colab import drive\n",
        "drive.mount('/content/drive')"
      ],
      "execution_count": 2,
      "outputs": [
        {
          "output_type": "stream",
          "text": [
            "Mounted at /content/drive\n"
          ],
          "name": "stdout"
        }
      ]
    },
    {
      "cell_type": "code",
      "metadata": {
        "id": "CSQiQCFYm8Qz"
      },
      "source": [
        "train_data_dir = '/content/drive/MyDrive/Colab_Notebooks/Deep Learning/Build deep learning models with tensorflow/Image Classification/classification-challenge.zip (Unzipped Files)/classification-challenge/classification-challenge-starter/Covid19-dataset/train'\r\n",
        "validation_data_dir = '/content/drive/MyDrive/Colab_Notebooks/Deep Learning/Build deep learning models with tensorflow/Image Classification/classification-challenge.zip (Unzipped Files)/classification-challenge/classification-challenge-starter/Covid19-dataset/test'"
      ],
      "execution_count": 3,
      "outputs": []
    },
    {
      "cell_type": "code",
      "metadata": {
        "colab": {
          "base_uri": "https://localhost:8080/",
          "height": 1000
        },
        "id": "nZ0jvx8ummh7",
        "outputId": "ea67d05f-14d8-4e49-c350-0f5550057618"
      },
      "source": [
        "import tensorflow as tf\r\n",
        "from tensorflow import keras\r\n",
        "from tensorflow.keras.models import Sequential\r\n",
        "from tensorflow.keras.preprocessing.image import ImageDataGenerator\r\n",
        "\r\n",
        "from tensorflow.keras import layers\r\n",
        "from sklearn.metrics import classification_report\r\n",
        "from sklearn.metrics import confusion_matrix\r\n",
        "import matplotlib.pyplot as plt\r\n",
        "import numpy as numpy\r\n",
        "\r\n",
        "\r\n",
        "train_datagen = ImageDataGenerator(\r\n",
        "        rescale=1./255,\r\n",
        "        zoom_range=0.2,\r\n",
        "        rotation_range=15,\r\n",
        "        width_shift_range=0.05,\r\n",
        "        height_shift_range=0.05,\r\n",
        "        horizontal_flip = True)\r\n",
        "\r\n",
        "test_datagen = ImageDataGenerator(rescale = 1./255)\r\n",
        "\r\n",
        "train_iterator = train_datagen.flow_from_directory(\r\n",
        "  train_data_dir, \r\n",
        "  target_size = (256, 256),\r\n",
        "  class_mode = 'categorical',\r\n",
        "  color_mode = 'grayscale',\r\n",
        "  batch_size = 8\r\n",
        ")\r\n",
        "validation_iterator = test_datagen.flow_from_directory(\r\n",
        "  validation_data_dir,\r\n",
        "  target_size = (256, 256),\r\n",
        "  class_mode = 'categorical',\r\n",
        "  color_mode = 'grayscale',\r\n",
        "  batch_size = 8\r\n",
        ")\r\n",
        "# Creating a Classification Neural Network\r\n",
        "model = Sequential()\r\n",
        "\r\n",
        "model.add(tf.keras.Input(shape = (256,256, 1)))\r\n",
        "model.add(layers.Conv2D(16, 5, strides=3, activation=\"relu\")) \r\n",
        "model.add(layers.MaxPooling2D(\r\n",
        "    pool_size=(5, 5), strides=(5,5)))\r\n",
        "model.add(layers.Conv2D(8, 3, strides=1, activation=\"relu\")) \r\n",
        "model.add(layers.MaxPooling2D(\r\n",
        "    pool_size=(2,2), strides=(2,2)))\r\n",
        "\r\n",
        "model.add(layers.Flatten())\r\n",
        "model.add(layers.Dropout(0.4))\r\n",
        "\r\n",
        "model.add(layers.Dense(3, activation = 'softmax'))\r\n",
        "\r\n",
        "print(model.summary())\r\n",
        "\r\n",
        "# compiling the model\r\n",
        "opt = tf.keras.optimizers.Adam(learning_rate = 0.001)\r\n",
        "loss = tf.keras.losses.CategoricalCrossentropy()\r\n",
        "model.compile(loss = loss, optimizer = opt, metrics = [tf.keras.metrics.CategoricalAccuracy(), tf.keras.metrics.AUC()])\r\n",
        "\r\n",
        "BATCH_SIZE = 8\r\n",
        "\r\n",
        "\r\n",
        "# train and evaluating the model\r\n",
        "history = model.fit(\r\n",
        "        train_iterator,\r\n",
        "        steps_per_epoch=train_iterator.samples/BATCH_SIZE,\r\n",
        "        epochs=10,\r\n",
        "        validation_data=validation_iterator,\r\n",
        "        validation_steps=validation_iterator.samples/BATCH_SIZE)\r\n",
        "\r\n",
        "# Do Matplotlib extension below\r\n",
        "# plotting categorical and validation accuracy over epochs\r\n",
        "fig = plt.figure()\r\n",
        "ax1 = fig.add_subplot(2, 1, 1)\r\n",
        "ax1.plot(history.history['categorical_accuracy'])\r\n",
        "ax1.plot(history.history['val_categorical_accuracy'])\r\n",
        "ax1.set_title('model accuracy')\r\n",
        "ax1.set_xlabel('epoch')\r\n",
        "ax1.set_ylabel('accuracy')\r\n",
        "ax1.legend(['train', 'validation'], loc='upper left')\r\n",
        "\r\n",
        " \r\n",
        "# used to keep plots from overlapping\r\n",
        "fig.tight_layout()\r\n",
        " \r\n",
        "fig.savefig('my_plots.png')\r\n",
        "plt.show()\r\n",
        "\r\n",
        "test_steps_per_epoch = numpy.math.ceil(validation_iterator.samples / validation_iterator.batch_size)\r\n",
        "predictions = model.predict(validation_iterator, steps=test_steps_per_epoch)\r\n",
        "test_steps_per_epoch = numpy.math.ceil(validation_iterator.samples / validation_iterator.batch_size)\r\n",
        "predicted_classes = numpy.argmax(predictions, axis=1)\r\n",
        "true_classes = validation_iterator.classes\r\n",
        "class_labels = list(validation_iterator.class_indices.keys())\r\n",
        "report = classification_report(true_classes, predicted_classes, target_names=class_labels)\r\n",
        "print(report)   \r\n",
        " \r\n",
        "cm=confusion_matrix(true_classes,predicted_classes)\r\n",
        "print(cm)\r\n"
      ],
      "execution_count": 13,
      "outputs": [
        {
          "output_type": "stream",
          "text": [
            "Found 251 images belonging to 3 classes.\n",
            "Found 66 images belonging to 3 classes.\n",
            "Model: \"sequential_9\"\n",
            "_________________________________________________________________\n",
            "Layer (type)                 Output Shape              Param #   \n",
            "=================================================================\n",
            "conv2d_23 (Conv2D)           (None, 84, 84, 16)        416       \n",
            "_________________________________________________________________\n",
            "max_pooling2d_23 (MaxPooling (None, 16, 16, 16)        0         \n",
            "_________________________________________________________________\n",
            "conv2d_24 (Conv2D)           (None, 14, 14, 8)         1160      \n",
            "_________________________________________________________________\n",
            "max_pooling2d_24 (MaxPooling (None, 7, 7, 8)           0         \n",
            "_________________________________________________________________\n",
            "flatten_9 (Flatten)          (None, 392)               0         \n",
            "_________________________________________________________________\n",
            "dropout_10 (Dropout)         (None, 392)               0         \n",
            "_________________________________________________________________\n",
            "dense_9 (Dense)              (None, 3)                 1179      \n",
            "=================================================================\n",
            "Total params: 2,755\n",
            "Trainable params: 2,755\n",
            "Non-trainable params: 0\n",
            "_________________________________________________________________\n",
            "None\n",
            "Epoch 1/10\n",
            "31/31 [==============================] - 3s 80ms/step - loss: 1.0927 - categorical_accuracy: 0.3786 - auc_9: 0.5601 - val_loss: 1.0417 - val_categorical_accuracy: 0.3939 - val_auc_9: 0.7122\n",
            "Epoch 2/10\n",
            "31/31 [==============================] - 2s 72ms/step - loss: 1.0623 - categorical_accuracy: 0.4446 - auc_9: 0.6131 - val_loss: 0.9927 - val_categorical_accuracy: 0.4545 - val_auc_9: 0.7439\n",
            "Epoch 3/10\n",
            "31/31 [==============================] - 2s 72ms/step - loss: 0.9810 - categorical_accuracy: 0.5681 - auc_9: 0.7226 - val_loss: 0.9449 - val_categorical_accuracy: 0.6061 - val_auc_9: 0.8449\n",
            "Epoch 4/10\n",
            "31/31 [==============================] - 2s 71ms/step - loss: 0.9865 - categorical_accuracy: 0.5501 - auc_9: 0.7127 - val_loss: 0.8561 - val_categorical_accuracy: 0.7879 - val_auc_9: 0.9393\n",
            "Epoch 5/10\n",
            "31/31 [==============================] - 2s 70ms/step - loss: 0.8481 - categorical_accuracy: 0.6657 - auc_9: 0.8306 - val_loss: 0.7463 - val_categorical_accuracy: 0.8182 - val_auc_9: 0.9499\n",
            "Epoch 6/10\n",
            "31/31 [==============================] - 2s 71ms/step - loss: 0.8269 - categorical_accuracy: 0.6327 - auc_9: 0.8278 - val_loss: 0.6342 - val_categorical_accuracy: 0.8333 - val_auc_9: 0.9496\n",
            "Epoch 7/10\n",
            "31/31 [==============================] - 2s 70ms/step - loss: 0.7238 - categorical_accuracy: 0.6891 - auc_9: 0.8655 - val_loss: 0.5641 - val_categorical_accuracy: 0.8182 - val_auc_9: 0.9510\n",
            "Epoch 8/10\n",
            "31/31 [==============================] - 2s 70ms/step - loss: 0.6353 - categorical_accuracy: 0.7465 - auc_9: 0.9012 - val_loss: 0.4538 - val_categorical_accuracy: 0.8636 - val_auc_9: 0.9680\n",
            "Epoch 9/10\n",
            "31/31 [==============================] - 2s 71ms/step - loss: 0.6208 - categorical_accuracy: 0.7411 - auc_9: 0.8989 - val_loss: 0.4721 - val_categorical_accuracy: 0.7576 - val_auc_9: 0.9434\n",
            "Epoch 10/10\n",
            "31/31 [==============================] - 2s 71ms/step - loss: 0.6604 - categorical_accuracy: 0.7231 - auc_9: 0.8830 - val_loss: 0.4293 - val_categorical_accuracy: 0.8030 - val_auc_9: 0.9629\n"
          ],
          "name": "stdout"
        },
        {
          "output_type": "display_data",
          "data": {
            "image/png": "[encoded data removed]",
            "text/plain": [
              "<Figure size 432x288 with 1 Axes>"
            ]
          },
          "metadata": {
            "tags": [],
            "needs_background": "light"
          }
        },
        {
          "output_type": "stream",
          "text": [
            "              precision    recall  f1-score   support\n",
            "\n",
            "       Covid       0.55      0.46      0.50        26\n",
            "      Normal       0.42      0.55      0.48        20\n",
            "   Pneumonia       0.28      0.25      0.26        20\n",
            "\n",
            "    accuracy                           0.42        66\n",
            "   macro avg       0.42      0.42      0.41        66\n",
            "weighted avg       0.43      0.42      0.42        66\n",
            "\n",
            "[[12  7  7]\n",
            " [ 3 11  6]\n",
            " [ 7  8  5]]\n"
          ],
          "name": "stdout"
        }
      ]
    }
  ]
}