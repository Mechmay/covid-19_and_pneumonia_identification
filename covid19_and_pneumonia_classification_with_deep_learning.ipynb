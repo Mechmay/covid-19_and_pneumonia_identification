{
  "nbformat": 4,
  "nbformat_minor": 0,
  "metadata": {
    "colab": {
      "name": "covid19_and_pneumonia_classification_with_deep_learning.ipynb",
      "provenance": [],
      "collapsed_sections": [],
      "authorship_tag": "ABX9TyPe1bdyVJM7T0Z0mH4poM0t"
    },
    "kernelspec": {
      "name": "python3",
      "display_name": "Python 3"
    },
    "accelerator": "TPU"
  },
  "cells": [
    {
      "cell_type": "code",
      "metadata": {
        "colab": {
          "base_uri": "https://localhost:8080/"
        },
        "id": "gNuyt6mGnOBT",
        "outputId": "bdd12be1-9b1b-4d90-e753-d4b10ffcf1fa"
      },
      "source": [
        "from google.colab import drive\n",
        "drive.mount('/content/drive')"
      ],
      "execution_count": 1,
      "outputs": [
        {
          "output_type": "stream",
          "text": [
            "Mounted at /content/drive\n"
          ],
          "name": "stdout"
        }
      ]
    },
    {
      "cell_type": "code",
      "metadata": {
        "id": "CSQiQCFYm8Qz"
      },
      "source": [
        "train_data_dir = '/content/drive/MyDrive/Colab_Notebooks/Deep Learning/Build deep learning models with tensorflow/Image Classification/classification-challenge.zip (Unzipped Files)/classification-challenge/classification-challenge-starter/Covid19-dataset/train'\n",
        "validation_data_dir = '/content/drive/MyDrive/Colab_Notebooks/Deep Learning/Build deep learning models with tensorflow/Image Classification/classification-challenge.zip (Unzipped Files)/classification-challenge/classification-challenge-starter/Covid19-dataset/test'"
      ],
      "execution_count": 2,
      "outputs": []
    },
    {
      "cell_type": "code",
      "metadata": {
        "colab": {
          "base_uri": "https://localhost:8080/",
          "height": 1000
        },
        "id": "nZ0jvx8ummh7",
        "outputId": "bace2bb1-58ac-47b9-afcb-dae9ef9fc46e"
      },
      "source": [
        "import tensorflow as tf\n",
        "from tensorflow import keras\n",
        "from tensorflow.keras.models import Sequential\n",
        "from tensorflow.keras.preprocessing.image import ImageDataGenerator\n",
        "\n",
        "from tensorflow.keras import layers\n",
        "from sklearn.metrics import classification_report\n",
        "from sklearn.metrics import confusion_matrix\n",
        "import matplotlib.pyplot as plt\n",
        "import numpy as numpy\n",
        "\n",
        "\n",
        "train_datagen = ImageDataGenerator(\n",
        "        rescale=1./255,\n",
        "        zoom_range=0.2,\n",
        "        rotation_range=15,\n",
        "        width_shift_range=0.05,\n",
        "        height_shift_range=0.05,\n",
        "        horizontal_flip = True)\n",
        "\n",
        "test_datagen = ImageDataGenerator(rescale = 1./255)\n",
        "\n",
        "train_iterator = train_datagen.flow_from_directory(\n",
        "  train_data_dir, \n",
        "  target_size = (256, 256),\n",
        "  class_mode = 'categorical',\n",
        "  color_mode = 'grayscale',\n",
        "  batch_size = 8\n",
        ")\n",
        "validation_iterator = test_datagen.flow_from_directory(\n",
        "  validation_data_dir,\n",
        "  target_size = (256, 256),\n",
        "  class_mode = 'categorical',\n",
        "  color_mode = 'grayscale',\n",
        "  batch_size = 8\n",
        ")\n",
        "# Creating a Classification Neural Network\n",
        "model = Sequential()\n",
        "\n",
        "model.add(tf.keras.Input(shape = (256,256, 1)))\n",
        "model.add(layers.Conv2D(128, 5, strides=3, activation=\"relu\")) \n",
        "model.add(layers.MaxPooling2D(\n",
        "    pool_size=(5, 5), strides=(5,5)))\n",
        "model.add(layers.Dropout(0.3))\n",
        "model.add(layers.Conv2D(64, 3, strides=1, activation=\"relu\")) \n",
        "model.add(layers.MaxPooling2D(\n",
        "    pool_size=(3,3), strides=(2,2)))\n",
        "model.add(layers.Conv2D(32, 3, strides=1, activation=\"relu\")) \n",
        "model.add(layers.MaxPooling2D(\n",
        "    pool_size=(2,2), strides=(2,2)))\n",
        "model.add(layers.Dropout(0.3))\n",
        "\n",
        "\n",
        "model.add(layers.Flatten())\n",
        "model.add(layers.Dropout(0.4))\n",
        "\n",
        "model.add(layers.Dense(3, activation = 'softmax'))\n",
        "\n",
        "print(model.summary())\n",
        "\n",
        "# compiling the model\n",
        "opt = tf.keras.optimizers.Adam(learning_rate = 0.002)\n",
        "loss = tf.keras.losses.CategoricalCrossentropy()\n",
        "model.compile(loss = loss, optimizer = opt, metrics = [tf.keras.metrics.CategoricalAccuracy(), tf.keras.metrics.AUC()])\n",
        "\n",
        "BATCH_SIZE = 8\n",
        "\n",
        "\n",
        "# train and evaluating the model\n",
        "history = model.fit(\n",
        "        train_iterator,\n",
        "        steps_per_epoch=train_iterator.samples/BATCH_SIZE,\n",
        "        epochs=15,\n",
        "        validation_data=validation_iterator,\n",
        "        validation_steps=validation_iterator.samples/BATCH_SIZE)\n",
        "\n",
        "# Do Matplotlib extension below\n",
        "# plotting categorical and validation accuracy over epochs\n",
        "fig = plt.figure()\n",
        "ax1 = fig.add_subplot(2, 1, 1)\n",
        "ax1.plot(history.history['categorical_accuracy'])\n",
        "ax1.plot(history.history['val_categorical_accuracy'])\n",
        "ax1.set_title('model accuracy')\n",
        "ax1.set_xlabel('epoch')\n",
        "ax1.set_ylabel('accuracy')\n",
        "ax1.legend(['train', 'validation'], loc='upper left')\n",
        "\n",
        " \n",
        "# used to keep plots from overlapping\n",
        "fig.tight_layout()\n",
        " \n",
        "fig.savefig('my_plots.png')\n",
        "plt.show()\n",
        "\n",
        "test_steps_per_epoch = numpy.math.ceil(validation_iterator.samples / validation_iterator.batch_size)\n",
        "predictions = model.predict(validation_iterator, steps=test_steps_per_epoch)\n",
        "test_steps_per_epoch = numpy.math.ceil(validation_iterator.samples / validation_iterator.batch_size)\n",
        "predicted_classes = numpy.argmax(predictions, axis=1)\n",
        "true_classes = validation_iterator.classes\n",
        "class_labels = list(validation_iterator.class_indices.keys())\n",
        "report = classification_report(true_classes, predicted_classes, target_names=class_labels)\n",
        "print(report)   \n",
        " \n",
        "cm=confusion_matrix(true_classes,predicted_classes)\n",
        "print(cm)\n"
      ],
      "execution_count": 9,
      "outputs": [
        {
          "output_type": "stream",
          "text": [
            "Found 251 images belonging to 3 classes.\n",
            "Found 66 images belonging to 3 classes.\n",
            "Model: \"sequential_6\"\n",
            "_________________________________________________________________\n",
            "Layer (type)                 Output Shape              Param #   \n",
            "=================================================================\n",
            "conv2d_23 (Conv2D)           (None, 84, 84, 128)       3328      \n",
            "_________________________________________________________________\n",
            "max_pooling2d_22 (MaxPooling (None, 16, 16, 128)       0         \n",
            "_________________________________________________________________\n",
            "dropout_15 (Dropout)         (None, 16, 16, 128)       0         \n",
            "_________________________________________________________________\n",
            "conv2d_24 (Conv2D)           (None, 14, 14, 64)        73792     \n",
            "_________________________________________________________________\n",
            "max_pooling2d_23 (MaxPooling (None, 6, 6, 64)          0         \n",
            "_________________________________________________________________\n",
            "conv2d_25 (Conv2D)           (None, 4, 4, 32)          18464     \n",
            "_________________________________________________________________\n",
            "max_pooling2d_24 (MaxPooling (None, 2, 2, 32)          0         \n",
            "_________________________________________________________________\n",
            "dropout_16 (Dropout)         (None, 2, 2, 32)          0         \n",
            "_________________________________________________________________\n",
            "flatten_2 (Flatten)          (None, 128)               0         \n",
            "_________________________________________________________________\n",
            "dropout_17 (Dropout)         (None, 128)               0         \n",
            "_________________________________________________________________\n",
            "dense_2 (Dense)              (None, 3)                 387       \n",
            "=================================================================\n",
            "Total params: 95,971\n",
            "Trainable params: 95,971\n",
            "Non-trainable params: 0\n",
            "_________________________________________________________________\n",
            "None\n",
            "Epoch 1/15\n",
            "31/31 [==============================] - 6s 179ms/step - loss: 1.1309 - categorical_accuracy: 0.3877 - auc_2: 0.5371 - val_loss: 1.0953 - val_categorical_accuracy: 0.3939 - val_auc_2: 0.5521\n",
            "Epoch 2/15\n",
            "31/31 [==============================] - 5s 165ms/step - loss: 1.0922 - categorical_accuracy: 0.4012 - auc_2: 0.5470 - val_loss: 1.0980 - val_categorical_accuracy: 0.3939 - val_auc_2: 0.4842\n",
            "Epoch 3/15\n",
            "31/31 [==============================] - 5s 165ms/step - loss: 1.1216 - categorical_accuracy: 0.4280 - auc_2: 0.5332 - val_loss: 1.0911 - val_categorical_accuracy: 0.3939 - val_auc_2: 0.5366\n",
            "Epoch 4/15\n",
            "31/31 [==============================] - 5s 167ms/step - loss: 1.0888 - categorical_accuracy: 0.3974 - auc_2: 0.5649 - val_loss: 1.0907 - val_categorical_accuracy: 0.3939 - val_auc_2: 0.5445\n",
            "Epoch 5/15\n",
            "31/31 [==============================] - 5s 167ms/step - loss: 1.0711 - categorical_accuracy: 0.4124 - auc_2: 0.6001 - val_loss: 1.1205 - val_categorical_accuracy: 0.3939 - val_auc_2: 0.5332\n",
            "Epoch 6/15\n",
            "31/31 [==============================] - 5s 165ms/step - loss: 1.0574 - categorical_accuracy: 0.4802 - auc_2: 0.6309 - val_loss: 0.9073 - val_categorical_accuracy: 0.7273 - val_auc_2: 0.8827\n",
            "Epoch 7/15\n",
            "31/31 [==============================] - 5s 164ms/step - loss: 0.8675 - categorical_accuracy: 0.5595 - auc_2: 0.7761 - val_loss: 0.7494 - val_categorical_accuracy: 0.6970 - val_auc_2: 0.8476\n",
            "Epoch 8/15\n",
            "31/31 [==============================] - 5s 164ms/step - loss: 0.9087 - categorical_accuracy: 0.5702 - auc_2: 0.7612 - val_loss: 0.7181 - val_categorical_accuracy: 0.6970 - val_auc_2: 0.8865\n",
            "Epoch 9/15\n",
            "31/31 [==============================] - 5s 167ms/step - loss: 0.8262 - categorical_accuracy: 0.6163 - auc_2: 0.8121 - val_loss: 0.7369 - val_categorical_accuracy: 0.7576 - val_auc_2: 0.9280\n",
            "Epoch 10/15\n",
            "31/31 [==============================] - 5s 166ms/step - loss: 0.7647 - categorical_accuracy: 0.6577 - auc_2: 0.8389 - val_loss: 0.6865 - val_categorical_accuracy: 0.7273 - val_auc_2: 0.9072\n",
            "Epoch 11/15\n",
            "31/31 [==============================] - 5s 165ms/step - loss: 0.7176 - categorical_accuracy: 0.6849 - auc_2: 0.8541 - val_loss: 0.6916 - val_categorical_accuracy: 0.7576 - val_auc_2: 0.8972\n",
            "Epoch 12/15\n",
            "31/31 [==============================] - 5s 169ms/step - loss: 0.7303 - categorical_accuracy: 0.6957 - auc_2: 0.8583 - val_loss: 0.6099 - val_categorical_accuracy: 0.7424 - val_auc_2: 0.9085\n",
            "Epoch 13/15\n",
            "31/31 [==============================] - 5s 165ms/step - loss: 0.6712 - categorical_accuracy: 0.7426 - auc_2: 0.8761 - val_loss: 0.5575 - val_categorical_accuracy: 0.7879 - val_auc_2: 0.9446\n",
            "Epoch 14/15\n",
            "31/31 [==============================] - 5s 165ms/step - loss: 0.6291 - categorical_accuracy: 0.7373 - auc_2: 0.8894 - val_loss: 0.5658 - val_categorical_accuracy: 0.8182 - val_auc_2: 0.9431\n",
            "Epoch 15/15\n",
            "31/31 [==============================] - 5s 165ms/step - loss: 0.6088 - categorical_accuracy: 0.7242 - auc_2: 0.8970 - val_loss: 0.5464 - val_categorical_accuracy: 0.7121 - val_auc_2: 0.9188\n"
          ],
          "name": "stdout"
        },
        {
          "output_type": "display_data",
          "data": {
            "image/png": "[encoded data removed]",
            "text/plain": [
              "<Figure size 432x288 with 1 Axes>"
            ]
          },
          "metadata": {
            "tags": [],
            "needs_background": "light"
          }
        },
        {
          "output_type": "stream",
          "text": [
            "              precision    recall  f1-score   support\n",
            "\n",
            "       Covid       0.50      0.42      0.46        26\n",
            "      Normal       0.73      0.40      0.52        20\n",
            "   Pneumonia       0.42      0.70      0.53        20\n",
            "\n",
            "    accuracy                           0.50        66\n",
            "   macro avg       0.55      0.51      0.50        66\n",
            "weighted avg       0.55      0.50      0.50        66\n",
            "\n",
            "[[11  2 13]\n",
            " [ 6  8  6]\n",
            " [ 5  1 14]]\n"
          ],
          "name": "stdout"
        }
      ]
    }
  ]
}